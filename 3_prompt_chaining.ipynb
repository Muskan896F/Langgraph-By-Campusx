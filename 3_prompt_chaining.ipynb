{
 "cells": [
  {
   "cell_type": "code",
   "execution_count": 1,
   "id": "4c707498",
   "metadata": {},
   "outputs": [],
   "source": [
    "from langgraph.graph import StateGraph, START, END\n",
    "from langchain_openai import ChatOpenAI\n",
    "from typing import TypedDict\n",
    "from dotenv import load_dotenv\n",
    "import os"
   ]
  },
  {
   "cell_type": "code",
   "execution_count": 2,
   "id": "43332710",
   "metadata": {},
   "outputs": [
    {
     "data": {
      "text/plain": [
       "True"
      ]
     },
     "execution_count": 2,
     "metadata": {},
     "output_type": "execute_result"
    }
   ],
   "source": [
    "load_dotenv()"
   ]
  },
  {
   "cell_type": "code",
   "execution_count": 3,
   "id": "cc83bc04",
   "metadata": {},
   "outputs": [],
   "source": [
    "model = ChatOpenAI()"
   ]
  },
  {
   "cell_type": "code",
   "execution_count": 4,
   "id": "46c43c36",
   "metadata": {},
   "outputs": [],
   "source": [
    "class BlogState(TypedDict):\n",
    "    title: str\n",
    "    outline: str\n",
    "    content: str\n",
    "    "
   ]
  },
  {
   "cell_type": "code",
   "execution_count": 5,
   "id": "e1112006",
   "metadata": {},
   "outputs": [],
   "source": [
    "def create_outline(state: BlogState) -> BlogState:\n",
    "\n",
    "    # fetch title\n",
    "    title = state['title']\n",
    "\n",
    "    # call llm gen outline\n",
    "    prompt = f'Generate a detailed outline for a blog on the topic - {title}'\n",
    "    outline = model.invoke(prompt).content\n",
    "\n",
    "    # update state\n",
    "    state['outline'] = outline\n",
    "\n",
    "    return state"
   ]
  },
  {
   "cell_type": "code",
   "execution_count": 6,
   "id": "86cc14f3",
   "metadata": {},
   "outputs": [],
   "source": [
    "def create_blog(state: BlogState) -> BlogState:\n",
    "\n",
    "    title = state['title']\n",
    "    outline = state['outline']\n",
    "\n",
    "    prompt = f'Write a detailed blog on the title - {title} using the follwing outline \\n {outline}'\n",
    "\n",
    "    content = model.invoke(prompt).content\n",
    "\n",
    "    state['content'] = content\n",
    "\n",
    "    return state"
   ]
  },
  {
   "cell_type": "code",
   "execution_count": 7,
   "id": "00c72b56",
   "metadata": {},
   "outputs": [],
   "source": [
    "graph = StateGraph(BlogState)\n",
    "\n",
    "# nodes\n",
    "graph.add_node('create_outline', create_outline)\n",
    "graph.add_node('create_blog', create_blog)\n",
    "\n",
    "# edges\n",
    "graph.add_edge(START, 'create_outline')\n",
    "graph.add_edge('create_outline', 'create_blog')\n",
    "graph.add_edge('create_blog', END)\n",
    "\n",
    "workflow = graph.compile()"
   ]
  },
  {
   "cell_type": "code",
   "execution_count": 8,
   "id": "3affaf7f",
   "metadata": {},
   "outputs": [
    {
     "name": "stdout",
     "output_type": "stream",
     "text": [
      "{'title': 'Rise of AI in India', 'outline': 'I. Introduction\\n    A. Brief history of artificial intelligence (AI) \\n    B. Definition of AI \\n    C. Importance of AI in modern society \\n\\nII. Overview of AI in India \\n    A. Current state of AI in India \\n    B. Major industries incorporating AI in India \\n    C. Growth projections for AI in India \\n\\nIII. Factors contributing to the rise of AI in India \\n    A. Government initiatives supporting AI development \\n    B. Technological advancements in India \\n    C. Increase in investment in AI startups in India \\n\\nIV. Role of AI in various sectors in India \\n    A. Healthcare \\n        1. Use of AI in medical diagnosis \\n        2. AI in drug discovery \\n    B. Education \\n        1. AI in personalized learning \\n        2. AI in education assessment \\n    C. Agriculture \\n        1. Use of AI in precision farming \\n        2. AI in crop management \\n\\nV. Challenges and opportunities for AI in India \\n    A. Data privacy and security concerns \\n    B. Lack of skilled professionals in AI \\n    C. Opportunities for AI in job creation \\n\\nVI. Future prospects of AI in India \\n    A. Potential impact of AI on the Indian economy \\n    B. Predictions for AI adoption in India \\n    C. Role of AI in shaping the future of India \\n\\nVII. Conclusion \\n    A. Recap of key points \\n    B. Final thoughts on the rise of AI in India \\n    C. Call to action for readers to stay updated on developments in AI in India', 'content': \"The Rise of AI in India\\n\\nI. Introduction\\n\\nA. Brief history of artificial intelligence (AI) \\nArtificial intelligence, or AI, has been a topic of interest and research since the 1950s. It refers to the development of computer systems that can perform tasks that normally require human intelligence, such as speech recognition, decision-making, and visual perception.\\n\\nB. Definition of AI \\nAI can be defined as the simulation of human intelligence processes by computer systems. It involves the creation of algorithms that can learn from data, make decisions, and improve over time.\\n\\nC. Importance of AI in modern society \\nAI has become increasingly important in modern society as it has the potential to revolutionize various industries and improve efficiency and productivity. From healthcare to education, AI has the power to transform how we live and work.\\n\\nII. Overview of AI in India\\n\\nA. Current state of AI in India \\nIndia has emerged as a hub for AI development and innovation in recent years. With a growing tech sector and a large pool of skilled professionals, India is well-positioned to capitalize on the potential of AI.\\n\\nB. Major industries incorporating AI in India \\nMajor industries in India, such as healthcare, education, and agriculture, are incorporating AI into their operations to improve efficiency and outcomes.\\n\\nC. Growth projections for AI in India \\nThe AI market in India is expected to grow significantly in the coming years, with increasing investment in AI startups and government initiatives supporting AI development.\\n\\nIII. Factors contributing to the rise of AI in India\\n\\nA. Government initiatives supporting AI development \\nThe Indian government has launched several initiatives to support the development of AI in the country, such as the National AI Portal and the National AI Strategy.\\n\\nB. Technological advancements in India \\nIndia has made significant advancements in technology, with a focus on AI and machine learning. This has helped drive the adoption of AI across various sectors in the country.\\n\\nC. Increase in investment in AI startups in India \\nThere has been a significant increase in investment in AI startups in India, with both domestic and international investors recognizing the potential of AI in the country.\\n\\nIV. Role of AI in various sectors in India\\n\\nA. Healthcare \\n1. Use of AI in medical diagnosis \\nAI is being used in healthcare for medical diagnosis, helping doctors make more accurate and timely diagnoses.\\n\\n2. AI in drug discovery \\nAI is also being used in drug discovery, helping researchers develop new treatments and cures for diseases.\\n\\nB. Education \\n1. AI in personalized learning \\nAI is being used in education for personalized learning, helping students learn at their own pace and in their own way.\\n\\n2. AI in education assessment \\nAI is also being used in education assessment, helping teachers evaluate students' progress and performance more objectively.\\n\\nC. Agriculture \\n1. Use of AI in precision farming \\nAI is being used in agriculture for precision farming, helping farmers optimize their crop yields and reduce waste.\\n\\n2. AI in crop management \\nAI is also being used in crop management, helping farmers monitor and manage their crops more efficiently.\\n\\nV. Challenges and opportunities for AI in India\\n\\nA. Data privacy and security concerns \\nOne of the major challenges for AI in India is data privacy and security concerns, as the collection and use of personal data by AI systems raises ethical and legal issues.\\n\\nB. Lack of skilled professionals in AI \\nAnother challenge is the lack of skilled professionals in AI in India, as the demand for AI experts far outweighs the supply.\\n\\nC. Opportunities for AI in job creation \\nDespite these challenges, AI also presents opportunities for job creation in India, as the demand for AI professionals is expected to grow in the coming years.\\n\\nVI. Future prospects of AI in India\\n\\nA. Potential impact of AI on the Indian economy \\nAI has the potential to have a significant impact on the Indian economy, driving growth and innovation across various sectors.\\n\\nB. Predictions for AI adoption in India \\nThe adoption of AI in India is expected to increase in the coming years, with more industries incorporating AI into their operations.\\n\\nC. Role of AI in shaping the future of India \\nAI has the potential to shape the future of India, driving economic growth, improving healthcare, and transforming education and agriculture.\\n\\nVII. Conclusion\\n\\nA. Recap of key points \\nThe rise of AI in India presents both challenges and opportunities for the country, with the potential to drive growth and innovation across various sectors.\\n\\nB. Final thoughts on the rise of AI in India \\nThe rise of AI in India is an exciting development that has the potential to transform the country and improve the lives of its citizens.\\n\\nC. Call to action for readers to stay updated on developments in AI in India \\nAs AI continues to evolve and grow in India, it is important for readers to stay informed and up-to-date on developments in this important field.\"}\n"
     ]
    }
   ],
   "source": [
    "intial_state = {'title': 'Rise of AI in India'}\n",
    "\n",
    "final_state = workflow.invoke(intial_state)\n",
    "\n",
    "print(final_state)"
   ]
  },
  {
   "cell_type": "code",
   "execution_count": 9,
   "id": "5017698d",
   "metadata": {},
   "outputs": [
    {
     "name": "stdout",
     "output_type": "stream",
     "text": [
      "I. Introduction\n",
      "    A. Brief history of artificial intelligence (AI) \n",
      "    B. Definition of AI \n",
      "    C. Importance of AI in modern society \n",
      "\n",
      "II. Overview of AI in India \n",
      "    A. Current state of AI in India \n",
      "    B. Major industries incorporating AI in India \n",
      "    C. Growth projections for AI in India \n",
      "\n",
      "III. Factors contributing to the rise of AI in India \n",
      "    A. Government initiatives supporting AI development \n",
      "    B. Technological advancements in India \n",
      "    C. Increase in investment in AI startups in India \n",
      "\n",
      "IV. Role of AI in various sectors in India \n",
      "    A. Healthcare \n",
      "        1. Use of AI in medical diagnosis \n",
      "        2. AI in drug discovery \n",
      "    B. Education \n",
      "        1. AI in personalized learning \n",
      "        2. AI in education assessment \n",
      "    C. Agriculture \n",
      "        1. Use of AI in precision farming \n",
      "        2. AI in crop management \n",
      "\n",
      "V. Challenges and opportunities for AI in India \n",
      "    A. Data privacy and security concerns \n",
      "    B. Lack of skilled professionals in AI \n",
      "    C. Opportunities for AI in job creation \n",
      "\n",
      "VI. Future prospects of AI in India \n",
      "    A. Potential impact of AI on the Indian economy \n",
      "    B. Predictions for AI adoption in India \n",
      "    C. Role of AI in shaping the future of India \n",
      "\n",
      "VII. Conclusion \n",
      "    A. Recap of key points \n",
      "    B. Final thoughts on the rise of AI in India \n",
      "    C. Call to action for readers to stay updated on developments in AI in India\n"
     ]
    }
   ],
   "source": [
    "print(final_state['outline'])"
   ]
  },
  {
   "cell_type": "code",
   "execution_count": 10,
   "id": "b4e2b0ac",
   "metadata": {},
   "outputs": [
    {
     "name": "stdout",
     "output_type": "stream",
     "text": [
      "The Rise of AI in India\n",
      "\n",
      "I. Introduction\n",
      "\n",
      "A. Brief history of artificial intelligence (AI) \n",
      "Artificial intelligence, or AI, has been a topic of interest and research since the 1950s. It refers to the development of computer systems that can perform tasks that normally require human intelligence, such as speech recognition, decision-making, and visual perception.\n",
      "\n",
      "B. Definition of AI \n",
      "AI can be defined as the simulation of human intelligence processes by computer systems. It involves the creation of algorithms that can learn from data, make decisions, and improve over time.\n",
      "\n",
      "C. Importance of AI in modern society \n",
      "AI has become increasingly important in modern society as it has the potential to revolutionize various industries and improve efficiency and productivity. From healthcare to education, AI has the power to transform how we live and work.\n",
      "\n",
      "II. Overview of AI in India\n",
      "\n",
      "A. Current state of AI in India \n",
      "India has emerged as a hub for AI development and innovation in recent years. With a growing tech sector and a large pool of skilled professionals, India is well-positioned to capitalize on the potential of AI.\n",
      "\n",
      "B. Major industries incorporating AI in India \n",
      "Major industries in India, such as healthcare, education, and agriculture, are incorporating AI into their operations to improve efficiency and outcomes.\n",
      "\n",
      "C. Growth projections for AI in India \n",
      "The AI market in India is expected to grow significantly in the coming years, with increasing investment in AI startups and government initiatives supporting AI development.\n",
      "\n",
      "III. Factors contributing to the rise of AI in India\n",
      "\n",
      "A. Government initiatives supporting AI development \n",
      "The Indian government has launched several initiatives to support the development of AI in the country, such as the National AI Portal and the National AI Strategy.\n",
      "\n",
      "B. Technological advancements in India \n",
      "India has made significant advancements in technology, with a focus on AI and machine learning. This has helped drive the adoption of AI across various sectors in the country.\n",
      "\n",
      "C. Increase in investment in AI startups in India \n",
      "There has been a significant increase in investment in AI startups in India, with both domestic and international investors recognizing the potential of AI in the country.\n",
      "\n",
      "IV. Role of AI in various sectors in India\n",
      "\n",
      "A. Healthcare \n",
      "1. Use of AI in medical diagnosis \n",
      "AI is being used in healthcare for medical diagnosis, helping doctors make more accurate and timely diagnoses.\n",
      "\n",
      "2. AI in drug discovery \n",
      "AI is also being used in drug discovery, helping researchers develop new treatments and cures for diseases.\n",
      "\n",
      "B. Education \n",
      "1. AI in personalized learning \n",
      "AI is being used in education for personalized learning, helping students learn at their own pace and in their own way.\n",
      "\n",
      "2. AI in education assessment \n",
      "AI is also being used in education assessment, helping teachers evaluate students' progress and performance more objectively.\n",
      "\n",
      "C. Agriculture \n",
      "1. Use of AI in precision farming \n",
      "AI is being used in agriculture for precision farming, helping farmers optimize their crop yields and reduce waste.\n",
      "\n",
      "2. AI in crop management \n",
      "AI is also being used in crop management, helping farmers monitor and manage their crops more efficiently.\n",
      "\n",
      "V. Challenges and opportunities for AI in India\n",
      "\n",
      "A. Data privacy and security concerns \n",
      "One of the major challenges for AI in India is data privacy and security concerns, as the collection and use of personal data by AI systems raises ethical and legal issues.\n",
      "\n",
      "B. Lack of skilled professionals in AI \n",
      "Another challenge is the lack of skilled professionals in AI in India, as the demand for AI experts far outweighs the supply.\n",
      "\n",
      "C. Opportunities for AI in job creation \n",
      "Despite these challenges, AI also presents opportunities for job creation in India, as the demand for AI professionals is expected to grow in the coming years.\n",
      "\n",
      "VI. Future prospects of AI in India\n",
      "\n",
      "A. Potential impact of AI on the Indian economy \n",
      "AI has the potential to have a significant impact on the Indian economy, driving growth and innovation across various sectors.\n",
      "\n",
      "B. Predictions for AI adoption in India \n",
      "The adoption of AI in India is expected to increase in the coming years, with more industries incorporating AI into their operations.\n",
      "\n",
      "C. Role of AI in shaping the future of India \n",
      "AI has the potential to shape the future of India, driving economic growth, improving healthcare, and transforming education and agriculture.\n",
      "\n",
      "VII. Conclusion\n",
      "\n",
      "A. Recap of key points \n",
      "The rise of AI in India presents both challenges and opportunities for the country, with the potential to drive growth and innovation across various sectors.\n",
      "\n",
      "B. Final thoughts on the rise of AI in India \n",
      "The rise of AI in India is an exciting development that has the potential to transform the country and improve the lives of its citizens.\n",
      "\n",
      "C. Call to action for readers to stay updated on developments in AI in India \n",
      "As AI continues to evolve and grow in India, it is important for readers to stay informed and up-to-date on developments in this important field.\n"
     ]
    }
   ],
   "source": [
    "print(final_state['content'])"
   ]
  },
  {
   "cell_type": "code",
   "execution_count": 11,
   "id": "69c33ecb",
   "metadata": {},
   "outputs": [
    {
     "name": "stdout",
     "output_type": "stream",
     "text": [
      "The End\n"
     ]
    }
   ],
   "source": [
    "print(\"The End\")"
   ]
  }
 ],
 "metadata": {
  "kernelspec": {
   "display_name": "Python 3",
   "language": "python",
   "name": "python3"
  },
  "language_info": {
   "codemirror_mode": {
    "name": "ipython",
    "version": 3
   },
   "file_extension": ".py",
   "mimetype": "text/x-python",
   "name": "python",
   "nbconvert_exporter": "python",
   "pygments_lexer": "ipython3",
   "version": "3.10.0"
  }
 },
 "nbformat": 4,
 "nbformat_minor": 5
}
